{
 "cells": [
  {
   "cell_type": "code",
   "execution_count": 1,
   "id": "07c1fc29",
   "metadata": {},
   "outputs": [],
   "source": [
    "# Proof of concept implementation"
   ]
  },
  {
   "cell_type": "code",
   "execution_count": 2,
   "id": "93bdcd24",
   "metadata": {},
   "outputs": [],
   "source": [
    "from pytorch_pretrained_vit import ViT\n",
    "import json\n",
    "from PIL import Image\n",
    "import torch\n",
    "from torchvision import transforms\n",
    "import cv2"
   ]
  },
  {
   "cell_type": "code",
   "execution_count": 3,
   "id": "5d3e3ddb",
   "metadata": {},
   "outputs": [
    {
     "name": "stdout",
     "output_type": "stream",
     "text": [
      "Loaded pretrained weights.\n"
     ]
    }
   ],
   "source": [
    "# Load pretrained Vision Transformer\n",
    "model = ViT('B_16_imagenet1k', pretrained=True)"
   ]
  },
  {
   "cell_type": "code",
   "execution_count": 4,
   "id": "93c6f4c0",
   "metadata": {},
   "outputs": [],
   "source": [
    "# Check image\n",
    "img = Image.open('img.jpg')"
   ]
  },
  {
   "cell_type": "code",
   "execution_count": 5,
   "id": "b40c3b32",
   "metadata": {
    "scrolled": true
   },
   "outputs": [
    {
     "name": "stderr",
     "output_type": "stream",
     "text": [
      "Using cache found in /Users/lautenschlager/.cache/torch/hub/ultralytics_yolov5_master\n",
      "Fusing layers... \n",
      "Model Summary: 224 layers, 7266973 parameters, 0 gradients\n",
      "Adding AutoShape... \n",
      "YOLOv5 🚀 2021-5-23 torch 1.8.1 CPU\n",
      "\n"
     ]
    },
    {
     "name": "stdout",
     "output_type": "stream",
     "text": [
      "AutoShape already enabled, skipping... \n",
      "image 1/1: 563x845 1 bird\n",
      "Speed: 11.1ms pre-process, 195.7ms inference, 2.0ms NMS per image at shape (1, 3, 448, 640)\n"
     ]
    }
   ],
   "source": [
    "# Object detection\n",
    "detector_model = torch.hub.load('ultralytics/yolov5', 'yolov5s', pretrained=True).autoshape()\n",
    "results = detector_model(img, size=640)\n",
    "results.print()\n",
    "results.show()"
   ]
  },
  {
   "cell_type": "code",
   "execution_count": 6,
   "id": "5fd6d539",
   "metadata": {},
   "outputs": [
    {
     "name": "stdout",
     "output_type": "stream",
     "text": [
      "bounding box is: 253 87 587 541\n"
     ]
    }
   ],
   "source": [
    "# Get bounding box coordinates from detection\n",
    "x1 = int(results.xyxy[0][0][0])\n",
    "y1 = int(results.xyxy[0][0][1])\n",
    "x2 = int(results.xyxy[0][0][2])\n",
    "y2 = int(results.xyxy[0][0][3])\n",
    "bbox_points=[x1, y1, x2, y2]\n",
    "print('bounding box is:', x1, y1, x2, y2)"
   ]
  },
  {
   "cell_type": "code",
   "execution_count": 7,
   "id": "32ff4106",
   "metadata": {},
   "outputs": [],
   "source": [
    "# Show cropped image (bounding box)\n",
    "cropped_img = img.crop((x1, y1, x2, y2))\n",
    "cropped_img.show()"
   ]
  },
  {
   "cell_type": "code",
   "execution_count": 8,
   "id": "d3d644ac",
   "metadata": {},
   "outputs": [],
   "source": [
    "# Preprocess image for transformer\n",
    "tfms = transforms.Compose([transforms.Resize(model.image_size), transforms.ToTensor(), transforms.Normalize([0.5, 0.5, 0.5], [0.5, 0.5, 0.5]),])\n",
    "cropped_img = tfms(cropped_img).unsqueeze(0)"
   ]
  },
  {
   "cell_type": "code",
   "execution_count": 9,
   "id": "b75bba40",
   "metadata": {},
   "outputs": [],
   "source": [
    "# Load class labels\n",
    "labels_map = json.load(open('labels_map.txt'))\n",
    "labels_map = [labels_map[str(i)] for i in range(1000)]"
   ]
  },
  {
   "cell_type": "code",
   "execution_count": 10,
   "id": "21fadeac",
   "metadata": {
    "scrolled": true
   },
   "outputs": [
    {
     "name": "stdout",
     "output_type": "stream",
     "text": [
      "-----\n",
      "[24] great grey owl, great gray owl, Strix nebulosa                              (99.98%)\n",
      "[21] kite                                                                        (0.00%)\n",
      "[798] slide rule, slipstick                                                       (0.00%)\n"
     ]
    }
   ],
   "source": [
    "# Classify\n",
    "model.eval()\n",
    "with torch.no_grad():\n",
    "    outputs = model(cropped_img).squeeze(0)\n",
    "print('-----')  \n",
    "for idx in torch.topk(outputs, k=3).indices.tolist():\n",
    "    prob = torch.softmax(outputs, -1)[idx].item()\n",
    "    print('[{idx}] {label:<75} ({p:.2f}%)'.format(idx=idx, label=labels_map[idx], p=prob*100))"
   ]
  },
  {
   "cell_type": "code",
   "execution_count": null,
   "id": "2e6f0ec1",
   "metadata": {},
   "outputs": [],
   "source": []
  }
 ],
 "metadata": {
  "kernelspec": {
   "display_name": "Python 3",
   "language": "python",
   "name": "python3"
  },
  "language_info": {
   "codemirror_mode": {
    "name": "ipython",
    "version": 3
   },
   "file_extension": ".py",
   "mimetype": "text/x-python",
   "name": "python",
   "nbconvert_exporter": "python",
   "pygments_lexer": "ipython3",
   "version": "3.7.7"
  }
 },
 "nbformat": 4,
 "nbformat_minor": 5
}
